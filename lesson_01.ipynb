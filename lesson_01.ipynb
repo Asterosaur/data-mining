{
 "cells": [
  {
   "cell_type": "markdown",
   "metadata": {},
   "source": [
    "# Lesson 01\n",
    "## Основы клиент-серверного взаимодействия. Парсинг API"
   ]
  },
  {
   "cell_type": "markdown",
   "metadata": {},
   "source": [
    "1. Посмотреть документацию к API GitHub, разобраться как вывести список репозиториев для конкретного пользователя, сохранить JSON-вывод в файле *.json."
   ]
  },
  {
   "cell_type": "code",
   "execution_count": 156,
   "metadata": {},
   "outputs": [],
   "source": [
    "import requests\n",
    "import json"
   ]
  },
  {
   "cell_type": "code",
   "execution_count": 157,
   "metadata": {},
   "outputs": [],
   "source": [
    "url = 'https://api.github.com'\n",
    "user='asterosaur'"
   ]
  },
  {
   "cell_type": "code",
   "execution_count": 158,
   "metadata": {},
   "outputs": [],
   "source": [
    "r = requests.get(f'{url}/users/{user}/repos')"
   ]
  },
  {
   "cell_type": "code",
   "execution_count": 159,
   "metadata": {},
   "outputs": [],
   "source": [
    "with open('data.json', 'w') as f:\n",
    "    json.dump(r.json(), f)"
   ]
  },
  {
   "cell_type": "code",
   "execution_count": 160,
   "metadata": {},
   "outputs": [
    {
     "name": "stdout",
     "output_type": "stream",
     "text": [
      "EntityComponentSystemSamples\n",
      "GalaxyCore\n",
      "python_math\n",
      "python_start\n",
      "script-bakery\n",
      "SnowSimulation\n",
      "SurrealGrassShader\n",
      "vcru_alphacap\n"
     ]
    }
   ],
   "source": [
    "for i in r.json():\n",
    "    print(i['name'])"
   ]
  },
  {
   "cell_type": "markdown",
   "metadata": {},
   "source": [
    "2. Изучить список открытых API. Найти среди них любое, требующее авторизацию (любого типа). Выполнить запросы к нему, пройдя авторизацию через curl, Postman, Python.Ответ сервера записать в файл (приложить скриншот для Postman и curl)"
   ]
  },
  {
   "cell_type": "code",
   "execution_count": 161,
   "metadata": {},
   "outputs": [],
   "source": [
    "url = 'https://cloud-api.yandex.net/v1/disk'\n",
    "token = 'AQAEA7qj5xAxAADLW00a75w_skgjkkwZQeDPwhQ'"
   ]
  },
  {
   "cell_type": "code",
   "execution_count": 162,
   "metadata": {},
   "outputs": [],
   "source": [
    "headers = {'Content-Type': 'application/json', 'Accept': 'application/json', 'Authorization': f'OAuth {token}'}"
   ]
  },
  {
   "cell_type": "code",
   "execution_count": 163,
   "metadata": {},
   "outputs": [],
   "source": [
    "disk_info = 'disk'"
   ]
  },
  {
   "cell_type": "code",
   "execution_count": 164,
   "metadata": {},
   "outputs": [],
   "source": [
    "disk = requests.get(f'{url}', headers)"
   ]
  },
  {
   "cell_type": "code",
   "execution_count": 165,
   "metadata": {},
   "outputs": [
    {
     "data": {
      "text/plain": [
       "{'message': 'Не авторизован.',\n",
       " 'description': 'Unauthorized',\n",
       " 'error': 'UnauthorizedError'}"
      ]
     },
     "execution_count": 165,
     "metadata": {},
     "output_type": "execute_result"
    }
   ],
   "source": [
    "disk.json()"
   ]
  },
  {
   "cell_type": "code",
   "execution_count": 169,
   "metadata": {},
   "outputs": [
    {
     "data": {
      "text/plain": [
       "{'max_file_size': 54760833024,\n",
       " 'unlimited_autoupload_enabled': False,\n",
       " 'total_space': 10737418240,\n",
       " 'trash_size': 0,\n",
       " 'is_paid': False,\n",
       " 'used_space': 67367249,\n",
       " 'system_folders': {'odnoklassniki': 'disk:/Социальные сети/Одноклассники',\n",
       "  'google': 'disk:/Социальные сети/Google+',\n",
       "  'instagram': 'disk:/Социальные сети/Instagram',\n",
       "  'vkontakte': 'disk:/Социальные сети/ВКонтакте',\n",
       "  'mailru': 'disk:/Социальные сети/Мой Мир',\n",
       "  'downloads': 'disk:/Загрузки/',\n",
       "  'applications': 'disk:/Приложения',\n",
       "  'facebook': 'disk:/Социальные сети/Facebook',\n",
       "  'social': 'disk:/Социальные сети/',\n",
       "  'scans': 'disk:/Сканы',\n",
       "  'screenshots': 'disk:/Скриншоты/',\n",
       "  'photostream': 'disk:/Фотокамера/'},\n",
       " 'user': {'country': 'ru',\n",
       "  'login': 'r.radjapov@aventica.ru',\n",
       "  'display_name': 'r.radjapov@aventica.ru',\n",
       "  'uid': '1130000055472177'},\n",
       " 'revision': 1651699594444178}"
      ]
     },
     "execution_count": 169,
     "metadata": {},
     "output_type": "execute_result"
    }
   ],
   "source": [
    "disk = requests.get(f'{url}', headers = headers)\n",
    "disk.json()"
   ]
  },
  {
   "cell_type": "code",
   "execution_count": null,
   "metadata": {},
   "outputs": [],
   "source": []
  }
 ],
 "metadata": {
  "kernelspec": {
   "display_name": "Python 3",
   "language": "python",
   "name": "python3"
  },
  "language_info": {
   "codemirror_mode": {
    "name": "ipython",
    "version": 3
   },
   "file_extension": ".py",
   "mimetype": "text/x-python",
   "name": "python",
   "nbconvert_exporter": "python",
   "pygments_lexer": "ipython3",
   "version": "3.8.8"
  }
 },
 "nbformat": 4,
 "nbformat_minor": 4
}
