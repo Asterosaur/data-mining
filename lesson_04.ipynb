{
 "cells": [
  {
   "cell_type": "code",
   "execution_count": 197,
   "id": "dd2b8a6b",
   "metadata": {
    "scrolled": true
   },
   "outputs": [
    {
     "name": "stderr",
     "output_type": "stream",
     "text": [
      "\n",
      "\n",
      "====== WebDriver manager ======\n",
      "Current google-chrome version is 101.0.4951\n",
      "Get LATEST chromedriver version for 101.0.4951 google-chrome\n",
      "Driver [C:\\Users\\Rustam\\.wdm\\drivers\\chromedriver\\win32\\101.0.4951.41\\chromedriver.exe] found in cache\n"
     ]
    },
    {
     "name": "stdout",
     "output_type": "stream",
     "text": [
      "{'added': 0, 'updated': 5}\n"
     ]
    }
   ],
   "source": [
    "from selenium import webdriver\n",
    "from selenium.webdriver.chrome.service import Service\n",
    "from webdriver_manager.chrome import ChromeDriverManager\n",
    "from lxml import html\n",
    "from datetime import datetime\n",
    "from pymongo import MongoClient\n",
    "\n",
    "driver = webdriver.Chrome(service=Service(ChromeDriverManager().install()))\n",
    "\n",
    "driver.get('https://news.mail.ru/')\n",
    "\n",
    "r = driver.page_source\n",
    "\n",
    "root = html.fromstring(r)\n",
    "\n",
    "news = []\n",
    "\n",
    "main_news = root.xpath('//div[contains (@class, \"daynews__item\")]')\n",
    "for newsblock in main_news:\n",
    "    title = newsblock.xpath('.//span[contains(@class, \"photo__title\")]/text()')[0].replace(u'\\xa0', u' ')\n",
    "    link = newsblock.xpath('.//a[contains(@class, \"photo\")]/@href')[0]\n",
    "    \n",
    "    #на мейле нет поля с датой, но основные новости опубликованы на текущий день\n",
    "    date =  datetime.today().strftime('%d-%m-%Y')\n",
    "    \n",
    "    news.append({'title':title, 'link':link, 'date':date})\n",
    "\n",
    "mongo = MongoClient('mongodb://localhost:27017')\n",
    "\n",
    "db = mongo['gbru']\n",
    "collection = db['news']\n",
    "\n",
    "def update_news():\n",
    "    added = updated = 0\n",
    "    for entry in news:\n",
    "        cur_link = entry['link']\n",
    "        if not collection.find_one({'link':cur_link}):\n",
    "            collection.insert_one(entry)\n",
    "            added+=1\n",
    "        else:\n",
    "            collection.update_one({'link': cur_link}, {'$set': entry})\n",
    "            updated+=1\n",
    "    return {'added':added, 'updated':updated}\n",
    "\n",
    "print(update_news())"
   ]
  }
 ],
 "metadata": {
  "kernelspec": {
   "display_name": "Python 3",
   "language": "python",
   "name": "python3"
  },
  "language_info": {
   "codemirror_mode": {
    "name": "ipython",
    "version": 3
   },
   "file_extension": ".py",
   "mimetype": "text/x-python",
   "name": "python",
   "nbconvert_exporter": "python",
   "pygments_lexer": "ipython3",
   "version": "3.8.8"
  }
 },
 "nbformat": 4,
 "nbformat_minor": 5
}
